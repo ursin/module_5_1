{
 "cells": [
  {
   "cell_type": "markdown",
   "metadata": {
    "slideshow": {
     "slide_type": "slide"
    }
   },
   "source": [
    "# SQLite\n",
    "*SQLite* ist eine C-Bibliothek, die eine kompakte festplattenbasierte Datenbank bereitstellt, für die kein separater Serverprozess erforderlich ist. Zugriff auf die Datenbank (DB) wird mithilfe einer Variante der SQL-Abfragesprache ermöglicht. Einige Anwendungen können *SQLite* für die interne Datenspeicherung verwenden. Es ist auch möglich einen Prototyp mit *SQLite* zu erstellen und den Code dann in eine größere Datenbank wie PostgreSQL, MySQL oder Oracle zu portieren.\n",
    "\n",
    "* [*SQLite* Allgemein](https://sqlite.org/index.html)\n",
    "* [*SQLite* Query Lang Doku](https://sqlite.org/lang.html)"
   ]
  },
  {
   "cell_type": "markdown",
   "metadata": {
    "slideshow": {
     "slide_type": "slide"
    }
   },
   "source": [
    "Für die ersten Schritte mit *SQLite* verwenden wir die Chinook DB. Chinook ist eine Beispieldatenbank, die für eine Vielzahl von RDBMS (SQLite, Oracle, MySQL usw). verfügbar ist. Sie kann durch Ausführen eines einzelnen SQL-Skripts erstellt werden.\n",
    "\n",
    "Das Chinook-Datenmodell stellt einen digitalen Musik Laden dar, der Tabellen für Künstler, Alben, Medientracks, Rechnungen und Kunden enthält."
   ]
  },
  {
   "cell_type": "markdown",
   "metadata": {
    "slideshow": {
     "slide_type": "slide"
    }
   },
   "source": [
    "![chinook_db_schema.png](doc/chinook_db_schema.png)"
   ]
  },
  {
   "cell_type": "markdown",
   "metadata": {
    "slideshow": {
     "slide_type": "slide"
    }
   },
   "source": [
    "Der Code für die Chinook-DB ist [hier](https://github.com/lerocha/chinook-database)."
   ]
  },
  {
   "cell_type": "markdown",
   "metadata": {
    "slideshow": {
     "slide_type": "slide"
    }
   },
   "source": [
    "*SQLite* ist in Python integriert. Damit die Chinook-DB verwendet werden kann, muss die *SQLite* Library importiert werden:"
   ]
  },
  {
   "cell_type": "code",
   "execution_count": null,
   "metadata": {
    "slideshow": {
     "slide_type": "-"
    }
   },
   "outputs": [],
   "source": [
    "import sqlite3"
   ]
  },
  {
   "cell_type": "markdown",
   "metadata": {
    "slideshow": {
     "slide_type": "slide"
    }
   },
   "source": [
    "Alle Interaktionen mit der DB benötigen eine Verbindung mit der DB. Diese wird wie folgt erstell:"
   ]
  },
  {
   "cell_type": "code",
   "execution_count": null,
   "metadata": {
    "slideshow": {
     "slide_type": "-"
    }
   },
   "outputs": [],
   "source": [
    "db_connection = sqlite3.connect(\"file:Chinook_Sqlite.sqlite?mode=ro\", uri=True)"
   ]
  },
  {
   "cell_type": "markdown",
   "metadata": {
    "slideshow": {
     "slide_type": "slide"
    }
   },
   "source": [
    "Um Abfragen auszuführen, muss über die DB-Verbindung ein Cursor erstellt werden. Der Cursor ermöglicht es dann die Resultate aus DB-Abfragen in Python zu verarbeiten. "
   ]
  },
  {
   "cell_type": "code",
   "execution_count": null,
   "metadata": {},
   "outputs": [],
   "source": [
    "cursor = db_connection.cursor()\n",
    "cursor.execute(\"SELECT name FROM sqlite_master WHERE type='table'\")\n",
    "print(cursor.fetchall())"
   ]
  },
  {
   "cell_type": "markdown",
   "metadata": {
    "slideshow": {
     "slide_type": "slide"
    }
   },
   "source": [
    "## Übungen\n",
    "Erstelle ein paar einfache SQL-Abfragen, zum Beispiel mit den Tabellen **Album** und **Artist**:\n",
    "\n",
    "![Album_Artist.png](doc/Album_Artist.png)"
   ]
  },
  {
   "cell_type": "markdown",
   "metadata": {
    "slideshow": {
     "slide_type": "slide"
    }
   },
   "source": [
    "Mehr Details zu einer Tabelle (Spalten, Datentypen) können mit dem Query `PRAGMA table_info(<table name>)` geholt werden:"
   ]
  },
  {
   "cell_type": "code",
   "execution_count": null,
   "metadata": {
    "slideshow": {
     "slide_type": "-"
    }
   },
   "outputs": [],
   "source": [
    "cursor = db_connection.cursor()\n",
    "cursor.execute(\"PRAGMA table_info(Album)\")\n",
    "info = cursor.fetchall()\n",
    "info"
   ]
  },
  {
   "cell_type": "markdown",
   "metadata": {
    "slideshow": {
     "slide_type": "slide"
    }
   },
   "source": [
    "Im Gegensatz zur Python-Syntax sind die SQL-Queries Case Insensitiv!"
   ]
  },
  {
   "cell_type": "code",
   "execution_count": null,
   "metadata": {
    "slideshow": {
     "slide_type": "-"
    }
   },
   "outputs": [],
   "source": [
    "cursor = db_connection.cursor()\n",
    "upper_case_qry = \"SELECT * FROM ALBUM LIMIT 10\"\n",
    "for row in cursor.execute(upper_case_qry):\n",
    "    print(row)"
   ]
  },
  {
   "cell_type": "code",
   "execution_count": null,
   "metadata": {
    "slideshow": {
     "slide_type": "-"
    }
   },
   "outputs": [],
   "source": [
    "cursor = db_connection.cursor()\n",
    "lower_case_query = \"select * from album limit 10\"\n",
    "for row in cursor.execute(lower_case_query):\n",
    "    print(row)"
   ]
  },
  {
   "cell_type": "code",
   "execution_count": null,
   "metadata": {
    "slideshow": {
     "slide_type": "slide"
    }
   },
   "outputs": [],
   "source": [
    "# TODO: Query 1"
   ]
  },
  {
   "cell_type": "code",
   "execution_count": null,
   "metadata": {},
   "outputs": [],
   "source": []
  },
  {
   "cell_type": "code",
   "execution_count": null,
   "metadata": {
    "slideshow": {
     "slide_type": "slide"
    }
   },
   "outputs": [],
   "source": [
    "# TODO: Query 2"
   ]
  },
  {
   "cell_type": "code",
   "execution_count": null,
   "metadata": {
    "slideshow": {
     "slide_type": "slide"
    }
   },
   "outputs": [],
   "source": [
    "# TODO: Query 3"
   ]
  },
  {
   "cell_type": "markdown",
   "metadata": {
    "slideshow": {
     "slide_type": "slide"
    }
   },
   "source": [
    "## Integration in Pandas\n",
    "SQLite Datenbanken können auch aus Pandas aus verwendet werden. Tabellen und Ergebnisse aus Queries können mit `read_sql_query()` in Pandas Dataframes geladen werden (siehe [Doku](https://pandas.pydata.org/pandas-docs/stable/reference/api/pandas.read_sql_query.html)).\n",
    "\n",
    "```python\n",
    "\n",
    "import pandas as pd\n",
    "df_from_query = pd.read_sql_query(<sql query>, <db connection>)\n",
    "```"
   ]
  },
  {
   "cell_type": "code",
   "execution_count": null,
   "metadata": {},
   "outputs": [],
   "source": [
    "import pandas as pd\n",
    "df = pd.read_sql_query(\"SELECT * FROM Artist WHERE Name LIKE 'Al%'\", db_connection)\n",
    "display(df)"
   ]
  },
  {
   "cell_type": "markdown",
   "metadata": {
    "slideshow": {
     "slide_type": "slide"
    }
   },
   "source": [
    "## Cleanup\n",
    "Am Ende von Scripts kann die DB Connection mit `close()` geschlossen werden."
   ]
  },
  {
   "cell_type": "code",
   "execution_count": null,
   "metadata": {
    "slideshow": {
     "slide_type": "-"
    }
   },
   "outputs": [],
   "source": [
    "db_connection.close()"
   ]
  }
 ],
 "metadata": {
  "celltoolbar": "Slideshow",
  "kernelspec": {
   "display_name": "Python 3",
   "language": "python",
   "name": "python3"
  },
  "language_info": {
   "codemirror_mode": {
    "name": "ipython",
    "version": 3
   },
   "file_extension": ".py",
   "mimetype": "text/x-python",
   "name": "python",
   "nbconvert_exporter": "python",
   "pygments_lexer": "ipython3",
   "version": "3.7.6"
  }
 },
 "nbformat": 4,
 "nbformat_minor": 4
}
